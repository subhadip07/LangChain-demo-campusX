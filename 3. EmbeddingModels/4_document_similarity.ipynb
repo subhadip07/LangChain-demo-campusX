{
 "cells": [
  {
   "cell_type": "code",
   "execution_count": 11,
   "id": "0f84af18",
   "metadata": {},
   "outputs": [
    {
     "data": {
      "text/plain": [
       "True"
      ]
     },
     "execution_count": 11,
     "metadata": {},
     "output_type": "execute_result"
    }
   ],
   "source": [
    "from langchain_core.embeddings import DeterministicFakeEmbedding\n",
    "from dotenv import load_dotenv\n",
    "from sklearn.metrics.pairwise import cosine_similarity\n",
    "import numpy as np\n",
    "\n",
    "load_dotenv()"
   ]
  },
  {
   "cell_type": "code",
   "execution_count": 12,
   "id": "119f3a19",
   "metadata": {},
   "outputs": [],
   "source": [
    "embeddings_model = DeterministicFakeEmbedding(size=1024)"
   ]
  },
  {
   "cell_type": "code",
   "execution_count": 13,
   "id": "c36a0f65",
   "metadata": {},
   "outputs": [],
   "source": [
    "documents = [\n",
    "    \"Virat Kohli is an Indian cricketer known for his aggressive batting and leadership.\",\n",
    "    \"MS Dhoni is a former Indian captain famous for his calm demeanor and finishing skills.\",\n",
    "    \"Sachin Tendulkar, also known as the 'God of Cricket', holds many batting records.\",\n",
    "    \"Rohit Sharma is known for his elegant batting and record-breaking double centuries.\",\n",
    "    \"Jasprit Bumrah is an Indian fast bowler known for his unorthodox action and yorkers.\"\n",
    "]"
   ]
  },
  {
   "cell_type": "code",
   "execution_count": 14,
   "id": "a69c7ac6",
   "metadata": {},
   "outputs": [],
   "source": [
    "query = 'tell me about Jasprit Bumrah'"
   ]
  },
  {
   "cell_type": "code",
   "execution_count": 15,
   "id": "72fa8f82",
   "metadata": {},
   "outputs": [],
   "source": [
    "doc_embeddings = embeddings_model.embed_documents(documents)\n",
    "query_embedding = embeddings_model.embed_query(query)"
   ]
  },
  {
   "cell_type": "code",
   "execution_count": 16,
   "id": "99aab2d3",
   "metadata": {},
   "outputs": [],
   "source": [
    "scores = cosine_similarity([query_embedding], doc_embeddings)[0]"
   ]
  },
  {
   "cell_type": "code",
   "execution_count": 17,
   "id": "535079dd",
   "metadata": {},
   "outputs": [],
   "source": [
    "index, score = sorted(list(enumerate(scores)),key=lambda x:x[1])[-1]"
   ]
  },
  {
   "cell_type": "code",
   "execution_count": 18,
   "id": "1049b65c",
   "metadata": {},
   "outputs": [
    {
     "name": "stdout",
     "output_type": "stream",
     "text": [
      "tell me about Jasprit Bumrah\n"
     ]
    }
   ],
   "source": [
    "print(query)"
   ]
  },
  {
   "cell_type": "code",
   "execution_count": 19,
   "id": "3ebb8448",
   "metadata": {},
   "outputs": [
    {
     "name": "stdout",
     "output_type": "stream",
     "text": [
      "Jasprit Bumrah is an Indian fast bowler known for his unorthodox action and yorkers.\n"
     ]
    }
   ],
   "source": [
    "print(documents[index])"
   ]
  },
  {
   "cell_type": "code",
   "execution_count": 20,
   "id": "890d1674",
   "metadata": {},
   "outputs": [
    {
     "name": "stdout",
     "output_type": "stream",
     "text": [
      "similarity score is: 0.06272201109963682\n"
     ]
    }
   ],
   "source": [
    "print(\"similarity score is:\", score)"
   ]
  },
  {
   "cell_type": "code",
   "execution_count": null,
   "id": "5488b385",
   "metadata": {},
   "outputs": [],
   "source": []
  }
 ],
 "metadata": {
  "kernelspec": {
   "display_name": "langchain_models",
   "language": "python",
   "name": "python3"
  },
  "language_info": {
   "codemirror_mode": {
    "name": "ipython",
    "version": 3
   },
   "file_extension": ".py",
   "mimetype": "text/x-python",
   "name": "python",
   "nbconvert_exporter": "python",
   "pygments_lexer": "ipython3",
   "version": "3.13.1"
  }
 },
 "nbformat": 4,
 "nbformat_minor": 5
}
